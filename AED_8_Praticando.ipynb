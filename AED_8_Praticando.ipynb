{
  "nbformat": 4,
  "nbformat_minor": 0,
  "metadata": {
    "colab": {
      "name": "AED_8_Praticando.ipynb",
      "provenance": [],
      "include_colab_link": true
    },
    "kernelspec": {
      "name": "python3",
      "display_name": "Python 3"
    },
    "language_info": {
      "name": "python"
    }
  },
  "cells": [
    {
      "cell_type": "markdown",
      "metadata": {
        "id": "view-in-github",
        "colab_type": "text"
      },
      "source": [
        "<a href=\"https://colab.research.google.com/github/guilhermersduarte/EDA_A-7/blob/main/AED_8_Praticando.ipynb\" target=\"_parent\"><img src=\"https://colab.research.google.com/assets/colab-badge.svg\" alt=\"Open In Colab\"/></a>"
      ]
    },
    {
      "cell_type": "markdown",
      "metadata": {
        "id": "40b90843"
      },
      "source": [
        "<img src=\"http://meusite.mackenzie.br/rogerio/mackenzie_logo/UPM.2_horizontal_vermelho.jpg\"  width=300, align=\"right\">\n",
        "<br>\n",
        "<br>\n",
        "<br>\n",
        "<br>\n",
        "<br>\n",
        "\n",
        "# Informação Mútua: Feature Selection\n",
        "---"
      ]
    },
    {
      "cell_type": "markdown",
      "metadata": {
        "id": "3555R4J6P6zY"
      },
      "source": [
        "\n",
        "Na Análise Exploratória de Dados uma das análises mais importantes é  determinar o que o valor de um atributo pode dizer sobre os valores de outro. Isso tem uma série de aplicações, em particular para a seleção de atributos para o aprendizado de máquina. Tratamos isso no nosso Professsor Resolve, e no material da aula você encontra como empregar a informação mútua para selecionar os atributos mais relevantes para determinar uma classe em R (Aula 8, Feature Selection).\n",
        "\n",
        "Este exemplo mostra como fazer isso em Python.\n",
        "\n"
      ]
    },
    {
      "cell_type": "markdown",
      "metadata": {
        "id": "KuDp22p4RxZA"
      },
      "source": [
        "## Atividade\n",
        "\n",
        "Empregue o exemplo para fazer uma seleção de atributos de classificação (atributos relevantes para a determinação de uma classe) de um conjunto de dados de interesse e compartilhe com os seus colegas no fórum.\n",
        "\n",
        "Você ainda pode buscar por outros exemplos na internet de outras técnicas de seleção de features, incluindo seleção de features para regressão (em vez de classificação como apresentamos aqui). Neste caso não deixe explicar um pouco da técnica empregada e indicar as referências empregadas. ;-)  "
      ]
    },
    {
      "cell_type": "code",
      "metadata": {
        "id": "Bb-oIrSKKKqD"
      },
      "source": [
        "import pandas as pd\n",
        "import numpy as np\n",
        "import matplotlib.pyplot as plt\n",
        "%matplotlib inline\n",
        "import seaborn as sns\n",
        "\n",
        "from sklearn import metrics\n",
        "from sklearn import feature_selection"
      ],
      "execution_count": 1,
      "outputs": []
    },
    {
      "cell_type": "code",
      "metadata": {
        "colab": {
          "base_uri": "https://localhost:8080/",
          "height": 206
        },
        "id": "kQ2-9qciK2cz",
        "outputId": "e0a0ddfb-2ccf-4794-c29c-9df73dc9c9c7"
      },
      "source": [
        "iris = sns.load_dataset('iris')\n",
        "iris.head()\n"
      ],
      "execution_count": 2,
      "outputs": [
        {
          "output_type": "execute_result",
          "data": {
            "text/plain": [
              "   sepal_length  sepal_width  petal_length  petal_width species\n",
              "0           5.1          3.5           1.4          0.2  setosa\n",
              "1           4.9          3.0           1.4          0.2  setosa\n",
              "2           4.7          3.2           1.3          0.2  setosa\n",
              "3           4.6          3.1           1.5          0.2  setosa\n",
              "4           5.0          3.6           1.4          0.2  setosa"
            ],
            "text/html": [
              "\n",
              "  <div id=\"df-9319b14f-6d9d-4f35-8351-eb7e1ac0fde1\" class=\"colab-df-container\">\n",
              "    <div>\n",
              "<style scoped>\n",
              "    .dataframe tbody tr th:only-of-type {\n",
              "        vertical-align: middle;\n",
              "    }\n",
              "\n",
              "    .dataframe tbody tr th {\n",
              "        vertical-align: top;\n",
              "    }\n",
              "\n",
              "    .dataframe thead th {\n",
              "        text-align: right;\n",
              "    }\n",
              "</style>\n",
              "<table border=\"1\" class=\"dataframe\">\n",
              "  <thead>\n",
              "    <tr style=\"text-align: right;\">\n",
              "      <th></th>\n",
              "      <th>sepal_length</th>\n",
              "      <th>sepal_width</th>\n",
              "      <th>petal_length</th>\n",
              "      <th>petal_width</th>\n",
              "      <th>species</th>\n",
              "    </tr>\n",
              "  </thead>\n",
              "  <tbody>\n",
              "    <tr>\n",
              "      <th>0</th>\n",
              "      <td>5.1</td>\n",
              "      <td>3.5</td>\n",
              "      <td>1.4</td>\n",
              "      <td>0.2</td>\n",
              "      <td>setosa</td>\n",
              "    </tr>\n",
              "    <tr>\n",
              "      <th>1</th>\n",
              "      <td>4.9</td>\n",
              "      <td>3.0</td>\n",
              "      <td>1.4</td>\n",
              "      <td>0.2</td>\n",
              "      <td>setosa</td>\n",
              "    </tr>\n",
              "    <tr>\n",
              "      <th>2</th>\n",
              "      <td>4.7</td>\n",
              "      <td>3.2</td>\n",
              "      <td>1.3</td>\n",
              "      <td>0.2</td>\n",
              "      <td>setosa</td>\n",
              "    </tr>\n",
              "    <tr>\n",
              "      <th>3</th>\n",
              "      <td>4.6</td>\n",
              "      <td>3.1</td>\n",
              "      <td>1.5</td>\n",
              "      <td>0.2</td>\n",
              "      <td>setosa</td>\n",
              "    </tr>\n",
              "    <tr>\n",
              "      <th>4</th>\n",
              "      <td>5.0</td>\n",
              "      <td>3.6</td>\n",
              "      <td>1.4</td>\n",
              "      <td>0.2</td>\n",
              "      <td>setosa</td>\n",
              "    </tr>\n",
              "  </tbody>\n",
              "</table>\n",
              "</div>\n",
              "    <div class=\"colab-df-buttons\">\n",
              "\n",
              "  <div class=\"colab-df-container\">\n",
              "    <button class=\"colab-df-convert\" onclick=\"convertToInteractive('df-9319b14f-6d9d-4f35-8351-eb7e1ac0fde1')\"\n",
              "            title=\"Convert this dataframe to an interactive table.\"\n",
              "            style=\"display:none;\">\n",
              "\n",
              "  <svg xmlns=\"http://www.w3.org/2000/svg\" height=\"24px\" viewBox=\"0 -960 960 960\">\n",
              "    <path d=\"M120-120v-720h720v720H120Zm60-500h600v-160H180v160Zm220 220h160v-160H400v160Zm0 220h160v-160H400v160ZM180-400h160v-160H180v160Zm440 0h160v-160H620v160ZM180-180h160v-160H180v160Zm440 0h160v-160H620v160Z\"/>\n",
              "  </svg>\n",
              "    </button>\n",
              "\n",
              "  <style>\n",
              "    .colab-df-container {\n",
              "      display:flex;\n",
              "      gap: 12px;\n",
              "    }\n",
              "\n",
              "    .colab-df-convert {\n",
              "      background-color: #E8F0FE;\n",
              "      border: none;\n",
              "      border-radius: 50%;\n",
              "      cursor: pointer;\n",
              "      display: none;\n",
              "      fill: #1967D2;\n",
              "      height: 32px;\n",
              "      padding: 0 0 0 0;\n",
              "      width: 32px;\n",
              "    }\n",
              "\n",
              "    .colab-df-convert:hover {\n",
              "      background-color: #E2EBFA;\n",
              "      box-shadow: 0px 1px 2px rgba(60, 64, 67, 0.3), 0px 1px 3px 1px rgba(60, 64, 67, 0.15);\n",
              "      fill: #174EA6;\n",
              "    }\n",
              "\n",
              "    .colab-df-buttons div {\n",
              "      margin-bottom: 4px;\n",
              "    }\n",
              "\n",
              "    [theme=dark] .colab-df-convert {\n",
              "      background-color: #3B4455;\n",
              "      fill: #D2E3FC;\n",
              "    }\n",
              "\n",
              "    [theme=dark] .colab-df-convert:hover {\n",
              "      background-color: #434B5C;\n",
              "      box-shadow: 0px 1px 3px 1px rgba(0, 0, 0, 0.15);\n",
              "      filter: drop-shadow(0px 1px 2px rgba(0, 0, 0, 0.3));\n",
              "      fill: #FFFFFF;\n",
              "    }\n",
              "  </style>\n",
              "\n",
              "    <script>\n",
              "      const buttonEl =\n",
              "        document.querySelector('#df-9319b14f-6d9d-4f35-8351-eb7e1ac0fde1 button.colab-df-convert');\n",
              "      buttonEl.style.display =\n",
              "        google.colab.kernel.accessAllowed ? 'block' : 'none';\n",
              "\n",
              "      async function convertToInteractive(key) {\n",
              "        const element = document.querySelector('#df-9319b14f-6d9d-4f35-8351-eb7e1ac0fde1');\n",
              "        const dataTable =\n",
              "          await google.colab.kernel.invokeFunction('convertToInteractive',\n",
              "                                                    [key], {});\n",
              "        if (!dataTable) return;\n",
              "\n",
              "        const docLinkHtml = 'Like what you see? Visit the ' +\n",
              "          '<a target=\"_blank\" href=https://colab.research.google.com/notebooks/data_table.ipynb>data table notebook</a>'\n",
              "          + ' to learn more about interactive tables.';\n",
              "        element.innerHTML = '';\n",
              "        dataTable['output_type'] = 'display_data';\n",
              "        await google.colab.output.renderOutput(dataTable, element);\n",
              "        const docLink = document.createElement('div');\n",
              "        docLink.innerHTML = docLinkHtml;\n",
              "        element.appendChild(docLink);\n",
              "      }\n",
              "    </script>\n",
              "  </div>\n",
              "\n",
              "\n",
              "    <div id=\"df-0178fa9b-f5e2-4c7a-b64c-7531591452f7\">\n",
              "      <button class=\"colab-df-quickchart\" onclick=\"quickchart('df-0178fa9b-f5e2-4c7a-b64c-7531591452f7')\"\n",
              "                title=\"Suggest charts\"\n",
              "                style=\"display:none;\">\n",
              "\n",
              "<svg xmlns=\"http://www.w3.org/2000/svg\" height=\"24px\"viewBox=\"0 0 24 24\"\n",
              "     width=\"24px\">\n",
              "    <g>\n",
              "        <path d=\"M19 3H5c-1.1 0-2 .9-2 2v14c0 1.1.9 2 2 2h14c1.1 0 2-.9 2-2V5c0-1.1-.9-2-2-2zM9 17H7v-7h2v7zm4 0h-2V7h2v10zm4 0h-2v-4h2v4z\"/>\n",
              "    </g>\n",
              "</svg>\n",
              "      </button>\n",
              "\n",
              "<style>\n",
              "  .colab-df-quickchart {\n",
              "      --bg-color: #E8F0FE;\n",
              "      --fill-color: #1967D2;\n",
              "      --hover-bg-color: #E2EBFA;\n",
              "      --hover-fill-color: #174EA6;\n",
              "      --disabled-fill-color: #AAA;\n",
              "      --disabled-bg-color: #DDD;\n",
              "  }\n",
              "\n",
              "  [theme=dark] .colab-df-quickchart {\n",
              "      --bg-color: #3B4455;\n",
              "      --fill-color: #D2E3FC;\n",
              "      --hover-bg-color: #434B5C;\n",
              "      --hover-fill-color: #FFFFFF;\n",
              "      --disabled-bg-color: #3B4455;\n",
              "      --disabled-fill-color: #666;\n",
              "  }\n",
              "\n",
              "  .colab-df-quickchart {\n",
              "    background-color: var(--bg-color);\n",
              "    border: none;\n",
              "    border-radius: 50%;\n",
              "    cursor: pointer;\n",
              "    display: none;\n",
              "    fill: var(--fill-color);\n",
              "    height: 32px;\n",
              "    padding: 0;\n",
              "    width: 32px;\n",
              "  }\n",
              "\n",
              "  .colab-df-quickchart:hover {\n",
              "    background-color: var(--hover-bg-color);\n",
              "    box-shadow: 0 1px 2px rgba(60, 64, 67, 0.3), 0 1px 3px 1px rgba(60, 64, 67, 0.15);\n",
              "    fill: var(--button-hover-fill-color);\n",
              "  }\n",
              "\n",
              "  .colab-df-quickchart-complete:disabled,\n",
              "  .colab-df-quickchart-complete:disabled:hover {\n",
              "    background-color: var(--disabled-bg-color);\n",
              "    fill: var(--disabled-fill-color);\n",
              "    box-shadow: none;\n",
              "  }\n",
              "\n",
              "  .colab-df-spinner {\n",
              "    border: 2px solid var(--fill-color);\n",
              "    border-color: transparent;\n",
              "    border-bottom-color: var(--fill-color);\n",
              "    animation:\n",
              "      spin 1s steps(1) infinite;\n",
              "  }\n",
              "\n",
              "  @keyframes spin {\n",
              "    0% {\n",
              "      border-color: transparent;\n",
              "      border-bottom-color: var(--fill-color);\n",
              "      border-left-color: var(--fill-color);\n",
              "    }\n",
              "    20% {\n",
              "      border-color: transparent;\n",
              "      border-left-color: var(--fill-color);\n",
              "      border-top-color: var(--fill-color);\n",
              "    }\n",
              "    30% {\n",
              "      border-color: transparent;\n",
              "      border-left-color: var(--fill-color);\n",
              "      border-top-color: var(--fill-color);\n",
              "      border-right-color: var(--fill-color);\n",
              "    }\n",
              "    40% {\n",
              "      border-color: transparent;\n",
              "      border-right-color: var(--fill-color);\n",
              "      border-top-color: var(--fill-color);\n",
              "    }\n",
              "    60% {\n",
              "      border-color: transparent;\n",
              "      border-right-color: var(--fill-color);\n",
              "    }\n",
              "    80% {\n",
              "      border-color: transparent;\n",
              "      border-right-color: var(--fill-color);\n",
              "      border-bottom-color: var(--fill-color);\n",
              "    }\n",
              "    90% {\n",
              "      border-color: transparent;\n",
              "      border-bottom-color: var(--fill-color);\n",
              "    }\n",
              "  }\n",
              "</style>\n",
              "\n",
              "      <script>\n",
              "        async function quickchart(key) {\n",
              "          const quickchartButtonEl =\n",
              "            document.querySelector('#' + key + ' button');\n",
              "          quickchartButtonEl.disabled = true;  // To prevent multiple clicks.\n",
              "          quickchartButtonEl.classList.add('colab-df-spinner');\n",
              "          try {\n",
              "            const charts = await google.colab.kernel.invokeFunction(\n",
              "                'suggestCharts', [key], {});\n",
              "          } catch (error) {\n",
              "            console.error('Error during call to suggestCharts:', error);\n",
              "          }\n",
              "          quickchartButtonEl.classList.remove('colab-df-spinner');\n",
              "          quickchartButtonEl.classList.add('colab-df-quickchart-complete');\n",
              "        }\n",
              "        (() => {\n",
              "          let quickchartButtonEl =\n",
              "            document.querySelector('#df-0178fa9b-f5e2-4c7a-b64c-7531591452f7 button');\n",
              "          quickchartButtonEl.style.display =\n",
              "            google.colab.kernel.accessAllowed ? 'block' : 'none';\n",
              "        })();\n",
              "      </script>\n",
              "    </div>\n",
              "\n",
              "    </div>\n",
              "  </div>\n"
            ],
            "application/vnd.google.colaboratory.intrinsic+json": {
              "type": "dataframe",
              "variable_name": "iris",
              "summary": "{\n  \"name\": \"iris\",\n  \"rows\": 150,\n  \"fields\": [\n    {\n      \"column\": \"sepal_length\",\n      \"properties\": {\n        \"dtype\": \"number\",\n        \"std\": 0.8280661279778629,\n        \"min\": 4.3,\n        \"max\": 7.9,\n        \"num_unique_values\": 35,\n        \"samples\": [\n          6.2,\n          4.5,\n          5.6\n        ],\n        \"semantic_type\": \"\",\n        \"description\": \"\"\n      }\n    },\n    {\n      \"column\": \"sepal_width\",\n      \"properties\": {\n        \"dtype\": \"number\",\n        \"std\": 0.435866284936698,\n        \"min\": 2.0,\n        \"max\": 4.4,\n        \"num_unique_values\": 23,\n        \"samples\": [\n          2.3,\n          4.0,\n          3.5\n        ],\n        \"semantic_type\": \"\",\n        \"description\": \"\"\n      }\n    },\n    {\n      \"column\": \"petal_length\",\n      \"properties\": {\n        \"dtype\": \"number\",\n        \"std\": 1.7652982332594667,\n        \"min\": 1.0,\n        \"max\": 6.9,\n        \"num_unique_values\": 43,\n        \"samples\": [\n          6.7,\n          3.8,\n          3.7\n        ],\n        \"semantic_type\": \"\",\n        \"description\": \"\"\n      }\n    },\n    {\n      \"column\": \"petal_width\",\n      \"properties\": {\n        \"dtype\": \"number\",\n        \"std\": 0.7622376689603465,\n        \"min\": 0.1,\n        \"max\": 2.5,\n        \"num_unique_values\": 22,\n        \"samples\": [\n          0.2,\n          1.2,\n          1.3\n        ],\n        \"semantic_type\": \"\",\n        \"description\": \"\"\n      }\n    },\n    {\n      \"column\": \"species\",\n      \"properties\": {\n        \"dtype\": \"category\",\n        \"num_unique_values\": 3,\n        \"samples\": [\n          \"setosa\",\n          \"versicolor\",\n          \"virginica\"\n        ],\n        \"semantic_type\": \"\",\n        \"description\": \"\"\n      }\n    }\n  ]\n}"
            }
          },
          "metadata": {},
          "execution_count": 2
        }
      ]
    },
    {
      "cell_type": "code",
      "metadata": {
        "colab": {
          "base_uri": "https://localhost:8080/"
        },
        "id": "CcHbwgRvKDF6",
        "outputId": "baec277a-fb6b-4881-af5c-a660d8892a82"
      },
      "source": [
        "mutual = feature_selection.mutual_info_classif(iris.drop(columns='species'), iris.species)\n",
        "\n",
        "mutual\n"
      ],
      "execution_count": 3,
      "outputs": [
        {
          "output_type": "execute_result",
          "data": {
            "text/plain": [
              "array([0.47667449, 0.21898626, 1.00197119, 0.97017367])"
            ]
          },
          "metadata": {},
          "execution_count": 3
        }
      ]
    },
    {
      "cell_type": "code",
      "metadata": {
        "colab": {
          "base_uri": "https://localhost:8080/",
          "height": 493
        },
        "id": "2mQUenfyKKgk",
        "outputId": "0b327021-b99d-48a5-946e-df6f27d18c91"
      },
      "source": [
        "f = plt.figure(figsize=(8,5))\n",
        "\n",
        "plt.barh( iris.columns[0:4], mutual[0:4], color='g', alpha=0.6 )\n",
        "plt.title('Feature Importancy - Mutual Information Criteria', fontsize=14, weight='bold')\n",
        "plt.yticks(fontsize=12, rotation=60)\n",
        "plt.xlabel('Mutual Information related to `species`', fontsize=12, weight='bold')\n",
        "plt.ylabel('Attribute', fontsize=12, weight='bold')\n",
        "plt.show()\n",
        "\n"
      ],
      "execution_count": 4,
      "outputs": [
        {
          "output_type": "display_data",
          "data": {
            "text/plain": [
              "<Figure size 800x500 with 1 Axes>"
            ],
            "image/png": "[encoded data removed]"
          },
          "metadata": {}
        }
      ]
    },
    {
      "cell_type": "markdown",
      "source": [
        "1. Teste Chi-Quadrado (χ\n",
        "2\n",
        " )\n",
        "Uso:\n",
        "O Teste Chi-Quadrado é usado para avaliar a dependência entre duas variáveis categóricas. No contexto de seleção de atributos, ele nos ajuda a determinar se um atributo categórico é independente da variável alvo categórica. Valores altos de χ\n",
        "2\n",
        "  e p-valores baixos indicam que o atributo e a classe são dependentes, ou seja, o atributo é relevante para a classificação.\n",
        "\n",
        "Observação para o Iris Dataset:\n",
        "Os atributos do Iris Dataset são numéricos (contínuos). O Teste Chi-Quadrado, em sua forma padrão, é para variáveis categóricas. Para aplicá-lo aqui, os atributos numéricos precisariam ser discretizados (transformados em categóricos/bins). No entanto, a função chi2 do scikit-learn pode ser aplicada a atributos não-negativos numéricos (geralmente contagens ou frequências) e alvos categóricos, interpretando-os de forma a calcular a estatística Chi-Quadrado. Para dados verdadeiramente contínuos como o Iris, ANOVA F-value é geralmente mais apropriada. Mesmo assim, vamos demonstrar a aplicação."
      ],
      "metadata": {
        "id": "hP1tLJLinVrT"
      }
    },
    {
      "source": [
        "# Teste Chi-Quadrado (X deve ser não-negativo, y categórico)\n",
        "# Como X (atributos do Iris) são floats, uma abordagem real seria discretizá-los primeiro.\n",
        "# Mas a função chi2 do sklearn pode ser aplicada a eles.\n",
        "\n",
        "# Importar a função chi2 explicitamente\n",
        "from sklearn.feature_selection import chi2\n",
        "\n",
        "# Definir X e y usando o dataframe iris\n",
        "X = iris.drop(columns='species')\n",
        "y = iris.species\n",
        "\n",
        "chi2_scores, p_values_chi2 = chi2(X, y)\n",
        "\n",
        "print(\"\\n--- Teste Chi-Quadrado ---\")\n",
        "print(\"Scores Chi-Quadrado por Atributo:\")\n",
        "for i, col in enumerate(X.columns):\n",
        "    print(f\"{col}: {chi2_scores[i]:.4f} (p-value: {p_values_chi2[i]:.4f})\")\n",
        "\n",
        "# Para melhor visualização, você pode ordenar:\n",
        "chi2_series = pd.Series(chi2_scores, index=X.columns)\n",
        "chi2_series_sorted = chi2_series.sort_values(ascending=False)\n",
        "print(\"\\nScores Chi-Quadrado (ordenado):\")\n",
        "print(chi2_series_sorted)"
      ],
      "cell_type": "code",
      "metadata": {
        "id": "ZVJPTPptnO6y",
        "outputId": "f78d944e-6aad-4208-b548-2711fcb7e8f6",
        "colab": {
          "base_uri": "https://localhost:8080/"
        }
      },
      "execution_count": 6,
      "outputs": [
        {
          "output_type": "stream",
          "name": "stdout",
          "text": [
            "\n",
            "--- Teste Chi-Quadrado ---\n",
            "Scores Chi-Quadrado por Atributo:\n",
            "sepal_length: 10.8178 (p-value: 0.0045)\n",
            "sepal_width: 3.7107 (p-value: 0.1564)\n",
            "petal_length: 116.3126 (p-value: 0.0000)\n",
            "petal_width: 67.0484 (p-value: 0.0000)\n",
            "\n",
            "Scores Chi-Quadrado (ordenado):\n",
            "petal_length    116.312613\n",
            "petal_width      67.048360\n",
            "sepal_length     10.817821\n",
            "sepal_width       3.710728\n",
            "dtype: float64\n"
          ]
        }
      ]
    },
    {
      "cell_type": "markdown",
      "source": [
        "Resultados e Explicação em Poucas Linhas:\n",
        "\n",
        "Resultados: No Iris, petal length e petal width apresentaram os maiores valores Chi-Quadrado e p-valores extremamente baixos (próximos de zero). sepal length tem um valor menor, e sepal width o menor.\n",
        "Explicação: Isso indica que petal length e petal width têm a maior dependência estatística com a espécie da flor, confirmando que são os atributos mais relevantes para a classificação, de acordo com o critério do Chi-Quadrado. Os p-valores minúsculos reforçam a significância estatística dessa dependência."
      ],
      "metadata": {
        "id": "zQTrv62ynQ6z"
      }
    },
    {
      "cell_type": "markdown",
      "source": [
        "**2. ANOVA F-value (f_classif)**\n",
        "Uso:\n",
        "A ANOVA (Análise de Variância) e seu valor F são usados para avaliar a diferença entre as médias de dois ou mais grupos. No contexto de seleção de atributos, f_classif verifica se há uma diferença estatisticamente significativa nas médias de um atributo numérico para cada categoria da variável alvo. Valores F altos (e p-valores baixos) sugerem que as médias do atributo variam significativamente entre as classes, tornando o atributo relevante para a classificação. É ideal para atributos numéricos e alvos categóricos, como no Iris.\n",
        "\n",
        "**Código:**"
      ],
      "metadata": {
        "id": "Mxu6l1wdnzhx"
      }
    },
    {
      "cell_type": "code",
      "source": [
        "# ANOVA F-value (atributos numéricos, y categórico)\n",
        "# Importar a função f_classif explicitamente\n",
        "from sklearn.feature_selection import f_classif\n",
        "\n",
        "f_scores, p_values_f = f_classif(X, y)\n",
        "\n",
        "print(\"\\n--- ANOVA F-value ---\")\n",
        "print(\"Scores F-value por Atributo:\")\n",
        "for i, col in enumerate(X.columns):\n",
        "    print(f\"{col}: {f_scores[i]:.4f} (p-value: {p_values_f[i]:.4f})\")\n",
        "\n",
        "# Para melhor visualização, você pode ordenar:\n",
        "f_series = pd.Series(f_scores, index=X.columns)\n",
        "f_series_sorted = f_series.sort_values(ascending=False)\n",
        "print(\"\\nScores F-value (ordenado):\")\n",
        "print(f_series_sorted)"
      ],
      "metadata": {
        "id": "-Qfy1YPjnvT-",
        "outputId": "3a1c212a-da75-4e16-9c59-3ce566cc43d8",
        "colab": {
          "base_uri": "https://localhost:8080/"
        }
      },
      "execution_count": 9,
      "outputs": [
        {
          "output_type": "stream",
          "name": "stdout",
          "text": [
            "\n",
            "--- ANOVA F-value ---\n",
            "Scores F-value por Atributo:\n",
            "sepal_length: 119.2645 (p-value: 0.0000)\n",
            "sepal_width: 49.1600 (p-value: 0.0000)\n",
            "petal_length: 1180.1612 (p-value: 0.0000)\n",
            "petal_width: 960.0071 (p-value: 0.0000)\n",
            "\n",
            "Scores F-value (ordenado):\n",
            "petal_length    1180.161182\n",
            "petal_width      960.007147\n",
            "sepal_length     119.264502\n",
            "sepal_width       49.160040\n",
            "dtype: float64\n"
          ]
        }
      ]
    },
    {
      "cell_type": "markdown",
      "source": [
        "Resultados e Explicação em Poucas Linhas:\n",
        "\n",
        "Resultados: Similar à Informação Mútua e Chi-Quadrado, petal length e petal width exibem os maiores valores F e p-valores praticamente nulos. sepal length tem um valor F menor, e sepal width o menor de todos.\n",
        "Explicação: Os altos valores F para petal length e petal width demonstram que as médias dessas medidas diferem significativamente entre as três espécies de Iris. Isso significa que esses atributos são excelentes para distinguir as espécies, sendo os mais importantes para a classificação."
      ],
      "metadata": {
        "id": "7wXAM6Ivn-nT"
      }
    }
  ]
}